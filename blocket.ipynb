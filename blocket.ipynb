{
 "cells": [
  {
   "cell_type": "code",
   "execution_count": 177,
   "metadata": {},
   "outputs": [],
   "source": [
    "from requests import get\n",
    "from requests.exceptions import RequestException\n",
    "from contextlib import closing\n",
    "from bs4 import BeautifulSoup\n",
    "import re\n",
    "import pandas as pd\n",
    "import matplotlib.pyplot as plt"
   ]
  },
  {
   "cell_type": "code",
   "execution_count": 7,
   "metadata": {},
   "outputs": [],
   "source": [
    "def simple_get(url):\n",
    "    \"\"\"\n",
    "    Attempts to get the content at `url` by making an HTTP GET request.\n",
    "    If the content-type of response is some kind of HTML/XML, return the\n",
    "    text content, otherwise return None.\n",
    "    \"\"\"\n",
    "    try:\n",
    "        with closing(get(url, stream=True)) as resp:\n",
    "            if is_good_response(resp):\n",
    "                return resp.content\n",
    "            else:\n",
    "                return None\n",
    "\n",
    "    except RequestException as e:\n",
    "        log_error('Error during requests to {0} : {1}'.format(url, str(e)))\n",
    "        return None\n",
    "    \n",
    "def is_good_response(resp):\n",
    "    \"\"\"\n",
    "    Returns True if the response seems to be HTML, False otherwise.\n",
    "    \"\"\"\n",
    "    content_type = resp.headers['Content-Type'].lower()\n",
    "    return (resp.status_code == 200 \n",
    "            and content_type is not None \n",
    "            and content_type.find('html') > -1)\n",
    "\n",
    "\n",
    "def log_error(e):\n",
    "    \"\"\"\n",
    "    It is always a good idea to log errors. \n",
    "    This function just prints them, but you can\n",
    "    make it do anything.\n",
    "    \"\"\"\n",
    "    print(e)"
   ]
  },
  {
   "cell_type": "code",
   "execution_count": 93,
   "metadata": {},
   "outputs": [],
   "source": [
    "raw_html = simple_get(url = r'https://www.blocket.se/goteborg/bilar?cg=1020&w=1&st=s&ca=31&is=1&l=0&md=th&cb=7&cbl1=1')"
   ]
  },
  {
   "cell_type": "code",
   "execution_count": 94,
   "metadata": {},
   "outputs": [],
   "source": [
    "html = BeautifulSoup(raw_html, 'html.parser')"
   ]
  },
  {
   "cell_type": "code",
   "execution_count": 109,
   "metadata": {},
   "outputs": [],
   "source": [
    "item_links = html.find_all('a',attrs={'class':'item_link'})"
   ]
  },
  {
   "cell_type": "code",
   "execution_count": 216,
   "metadata": {},
   "outputs": [
    {
     "data": {
      "text/plain": [
       "'https://www.blocket.se/stockholm/Citroen_Berlingo_1_6_HDI_LANG_L2___AUTOMAT___80695149.htm?ca=11&w=1'"
      ]
     },
     "execution_count": 216,
     "metadata": {},
     "output_type": "execute_result"
    }
   ],
   "source": [
    "item_link = item_links[0]\n",
    "item_link['href']\n",
    "\n"
   ]
  },
  {
   "cell_type": "code",
   "execution_count": 118,
   "metadata": {},
   "outputs": [],
   "source": [
    "raw_html2 = simple_get(item_link['href'])\n",
    "html2 = BeautifulSoup(raw_html2, 'html.parser')"
   ]
  },
  {
   "cell_type": "code",
   "execution_count": 131,
   "metadata": {},
   "outputs": [
    {
     "data": {
      "text/plain": [
       "'Citroën Berlingo 1.6 HDI LÅNG L2 / AUTOMAT / -14'"
      ]
     },
     "execution_count": 131,
     "metadata": {},
     "output_type": "execute_result"
    }
   ],
   "source": [
    "header = html2.find('h1',attrs = {'h3 subject_small'})\n",
    "name = header.text.replace('\\n','').replace('\\t','')\n",
    "name\n"
   ]
  },
  {
   "cell_type": "code",
   "execution_count": 133,
   "metadata": {},
   "outputs": [],
   "source": [
    "item_details = html2.find('div',attrs = {'id':'item_details'})"
   ]
  },
  {
   "cell_type": "code",
   "execution_count": 135,
   "metadata": {},
   "outputs": [],
   "source": [
    "items = item_details.find_all('dl',attrs={'class':'col-xs-4'})"
   ]
  },
  {
   "cell_type": "code",
   "execution_count": 138,
   "metadata": {},
   "outputs": [],
   "source": [
    "item = items[0]"
   ]
  },
  {
   "cell_type": "code",
   "execution_count": 141,
   "metadata": {},
   "outputs": [
    {
     "data": {
      "text/plain": [
       "<dl class=\"col-xs-4\">\n",
       "<dt>Modellår</dt>\n",
       "<dd><strong>2014</strong></dd>\n",
       "</dl>"
      ]
     },
     "execution_count": 141,
     "metadata": {},
     "output_type": "execute_result"
    }
   ],
   "source": [
    "item"
   ]
  },
  {
   "cell_type": "code",
   "execution_count": 143,
   "metadata": {},
   "outputs": [
    {
     "data": {
      "text/plain": [
       "'Modellår'"
      ]
     },
     "execution_count": 143,
     "metadata": {},
     "output_type": "execute_result"
    }
   ],
   "source": [
    "key = item.find('dt').text"
   ]
  },
  {
   "cell_type": "code",
   "execution_count": 145,
   "metadata": {},
   "outputs": [],
   "source": [
    "value = item.find('dd').text"
   ]
  },
  {
   "cell_type": "code",
   "execution_count": 218,
   "metadata": {},
   "outputs": [],
   "source": [
    "def clean_string(s):\n",
    "    s_clean = s.replace('\\n','').replace('\\t','')\n",
    "    return s_clean\n",
    "\n",
    "def clean_string2(s):\n",
    "    s_clean = clean_string(s).replace(' ','')\n",
    "    return s_clean\n",
    "\n",
    "def clean_price(s):\n",
    "    s_clean = clean_string(s)\n",
    "    s_clean = s_clean.replace('kr','').replace(' ','')\n",
    "    price = float(s_clean)\n",
    "    return price\n",
    "\n",
    "def find_id_from_href(href):\n",
    "    \n",
    "    result = re.search(pattern = r'(\\d*).htm',string = href)\n",
    "    id = int(result.groups(1)[0])\n",
    "    return id\n",
    "    \n",
    "def parse_car(href):\n",
    "    \n",
    "    raw_html = simple_get(item_link['href'])\n",
    "    html = BeautifulSoup(raw_html, 'html.parser')\n",
    "    \n",
    "    header = html.find('h1',attrs = {'h3 subject_small'})\n",
    "    name = clean_string(header.text)\n",
    "    \n",
    "    item_details = html.find('div',attrs = {'id':'item_details'})\n",
    "    items = item_details.find_all('dl',attrs={'class':'col-xs-4'})\n",
    "    \n",
    "    data = pd.Series()\n",
    "    for item in items:\n",
    "        key = clean_string2(item.find('dt').text)\n",
    "        value = clean_string2(item.find('dd').text)\n",
    "        data[key] = value\n",
    "        \n",
    "    data['header'] = name\n",
    "    data.name = find_id_from_href(href = item_link['href'])\n",
    "    \n",
    "    price = html.find('div',attrs={'id':'vi_price'})\n",
    "    data['price'] = clean_price(price.text)\n",
    "    \n",
    "    return data\n",
    "        \n",
    "    \n",
    "        "
   ]
  },
  {
   "cell_type": "code",
   "execution_count": 219,
   "metadata": {},
   "outputs": [
    {
     "data": {
      "text/plain": [
       "Modellår                                                       2014\n",
       "Växellåda                                                   Automat\n",
       "Miltal                                                         6500\n",
       "Tillverkningsår                                                2013\n",
       "Bränsle                                                      Diesel\n",
       "header             Citroën Berlingo 1.6 HDI LÅNG L2 / AUTOMAT / -14\n",
       "price                                                         68500\n",
       "Name: 80695149, dtype: object"
      ]
     },
     "execution_count": 219,
     "metadata": {},
     "output_type": "execute_result"
    }
   ],
   "source": [
    "parse_car(href = item_link['href'])"
   ]
  },
  {
   "cell_type": "code",
   "execution_count": 220,
   "metadata": {},
   "outputs": [],
   "source": [
    "df_cars = pd.DataFrame()\n",
    "\n",
    "for item_link in item_links:\n",
    "    \n",
    "    try:\n",
    "        s_car = parse_car(href = item_link['href'])\n",
    "    except AttributeError:\n",
    "        continue\n",
    "    else:\n",
    "        df_cars = df_cars.append(s_car)"
   ]
  },
  {
   "cell_type": "code",
   "execution_count": 221,
   "metadata": {},
   "outputs": [
    {
     "data": {
      "text/html": [
       "<div>\n",
       "<style scoped>\n",
       "    .dataframe tbody tr th:only-of-type {\n",
       "        vertical-align: middle;\n",
       "    }\n",
       "\n",
       "    .dataframe tbody tr th {\n",
       "        vertical-align: top;\n",
       "    }\n",
       "\n",
       "    .dataframe thead th {\n",
       "        text-align: right;\n",
       "    }\n",
       "</style>\n",
       "<table border=\"1\" class=\"dataframe\">\n",
       "  <thead>\n",
       "    <tr style=\"text-align: right;\">\n",
       "      <th></th>\n",
       "      <th>Bränsle</th>\n",
       "      <th>Miltal</th>\n",
       "      <th>Modellår</th>\n",
       "      <th>Tillverkningsår</th>\n",
       "      <th>Växellåda</th>\n",
       "      <th>header</th>\n",
       "      <th>price</th>\n",
       "    </tr>\n",
       "  </thead>\n",
       "  <tbody>\n",
       "    <tr>\n",
       "      <th>80695149</th>\n",
       "      <td>Diesel</td>\n",
       "      <td>6500</td>\n",
       "      <td>2014</td>\n",
       "      <td>2013</td>\n",
       "      <td>Automat</td>\n",
       "      <td>Citroën Berlingo 1.6 HDI LÅNG L2 / AUTOMAT / -14</td>\n",
       "      <td>68500.0</td>\n",
       "    </tr>\n",
       "    <tr>\n",
       "      <th>80340862</th>\n",
       "      <td>Diesel</td>\n",
       "      <td>2597</td>\n",
       "      <td>2013</td>\n",
       "      <td>2013</td>\n",
       "      <td>Manuell</td>\n",
       "      <td>Citroën Berlingo 1,6 HDi, verkstadinr, Moms, -13</td>\n",
       "      <td>89900.0</td>\n",
       "    </tr>\n",
       "    <tr>\n",
       "      <th>80367346</th>\n",
       "      <td>Diesel</td>\n",
       "      <td>4933</td>\n",
       "      <td>2013</td>\n",
       "      <td>2013</td>\n",
       "      <td>Manuell</td>\n",
       "      <td>Citroën Berlingo 1,6HDI 75HK Verkstadin M-vär -13</td>\n",
       "      <td>83800.0</td>\n",
       "    </tr>\n",
       "    <tr>\n",
       "      <th>80369114</th>\n",
       "      <td>Diesel</td>\n",
       "      <td>4695</td>\n",
       "      <td>2014</td>\n",
       "      <td>2014</td>\n",
       "      <td>Manuell</td>\n",
       "      <td>Citroën Berlingo 1,6HDI 75HK Verkstadin M-vär -14</td>\n",
       "      <td>84900.0</td>\n",
       "    </tr>\n",
       "    <tr>\n",
       "      <th>80334040</th>\n",
       "      <td>Diesel</td>\n",
       "      <td>915</td>\n",
       "      <td>2017</td>\n",
       "      <td>2016</td>\n",
       "      <td>Manuell</td>\n",
       "      <td>Citroën Berlingo 1.6 BlueHDi 100hk EU6 L2 -17</td>\n",
       "      <td>149800.0</td>\n",
       "    </tr>\n",
       "    <tr>\n",
       "      <th>80771709</th>\n",
       "      <td>Diesel</td>\n",
       "      <td>6890</td>\n",
       "      <td>2011</td>\n",
       "      <td>2011</td>\n",
       "      <td>Manuell</td>\n",
       "      <td>Citroën Berlingo 1.6 HDi 75hk Skåp 3-Sits -11</td>\n",
       "      <td>47900.0</td>\n",
       "    </tr>\n",
       "    <tr>\n",
       "      <th>80770812</th>\n",
       "      <td>Diesel</td>\n",
       "      <td>7810</td>\n",
       "      <td>2012</td>\n",
       "      <td>2012</td>\n",
       "      <td>Manuell</td>\n",
       "      <td>Citroën Berlingo 1.6 HDi 75hk Skåp 3-Sits -12</td>\n",
       "      <td>47900.0</td>\n",
       "    </tr>\n",
       "    <tr>\n",
       "      <th>80302077</th>\n",
       "      <td>Diesel</td>\n",
       "      <td>9680</td>\n",
       "      <td>2014</td>\n",
       "      <td>2014</td>\n",
       "      <td>Manuell</td>\n",
       "      <td>Citroën Berlingo 1.6 92hk 3-sits Skåp Lång -14</td>\n",
       "      <td>49900.0</td>\n",
       "    </tr>\n",
       "    <tr>\n",
       "      <th>79545167</th>\n",
       "      <td>Diesel</td>\n",
       "      <td>4431</td>\n",
       "      <td>2015</td>\n",
       "      <td>2015</td>\n",
       "      <td>Manuell</td>\n",
       "      <td>Citroën Berlingo 1.6 HDi 90hk Pro-Pack/V-INR -15</td>\n",
       "      <td>84800.0</td>\n",
       "    </tr>\n",
       "    <tr>\n",
       "      <th>80363204</th>\n",
       "      <td>Diesel</td>\n",
       "      <td>10400</td>\n",
       "      <td>2014</td>\n",
       "      <td>2014</td>\n",
       "      <td>Manuell</td>\n",
       "      <td>Citroën Berlingo 1.6 92hk 3-sits Skåp Lång -14</td>\n",
       "      <td>59900.0</td>\n",
       "    </tr>\n",
       "    <tr>\n",
       "      <th>80051931</th>\n",
       "      <td>Diesel</td>\n",
       "      <td>3015</td>\n",
       "      <td>2015</td>\n",
       "      <td>2015</td>\n",
       "      <td>Automat</td>\n",
       "      <td>Citroën Berlingo 1.6 HDi AUT/V-INREDD/PRO- -15</td>\n",
       "      <td>99000.0</td>\n",
       "    </tr>\n",
       "    <tr>\n",
       "      <th>80712671</th>\n",
       "      <td>Diesel</td>\n",
       "      <td>1</td>\n",
       "      <td>2018</td>\n",
       "      <td>-</td>\n",
       "      <td>Manuell</td>\n",
       "      <td>Citroën Berlingo Låg Skatt * Sommar Kampanj * -18</td>\n",
       "      <td>159875.0</td>\n",
       "    </tr>\n",
       "    <tr>\n",
       "      <th>80712572</th>\n",
       "      <td>Diesel</td>\n",
       "      <td>1</td>\n",
       "      <td>2018</td>\n",
       "      <td>-</td>\n",
       "      <td>Automat</td>\n",
       "      <td>Citroën Berlingo Propack | Sommar Kampanj -18</td>\n",
       "      <td>172375.0</td>\n",
       "    </tr>\n",
       "    <tr>\n",
       "      <th>80692549</th>\n",
       "      <td>Bensin</td>\n",
       "      <td>5954</td>\n",
       "      <td>2015</td>\n",
       "      <td>2015</td>\n",
       "      <td>Manuell</td>\n",
       "      <td>Citroën Berlingo Multispace VTi 120 Bensin -15</td>\n",
       "      <td>119000.0</td>\n",
       "    </tr>\n",
       "    <tr>\n",
       "      <th>80673393</th>\n",
       "      <td>Diesel</td>\n",
       "      <td>19834</td>\n",
       "      <td>2013</td>\n",
       "      <td>2012</td>\n",
       "      <td>Automat</td>\n",
       "      <td>Citroën Berlingo 1,6 HDi L2 Lång/Webasto/Drag -13</td>\n",
       "      <td>57900.0</td>\n",
       "    </tr>\n",
       "    <tr>\n",
       "      <th>79985151</th>\n",
       "      <td>Diesel</td>\n",
       "      <td>9049</td>\n",
       "      <td>2014</td>\n",
       "      <td>2014</td>\n",
       "      <td>Automat</td>\n",
       "      <td>Citroën BERLINGO III 1.6 HDi 90hk AUT/V-INRRE -14</td>\n",
       "      <td>69800.0</td>\n",
       "    </tr>\n",
       "    <tr>\n",
       "      <th>80304471</th>\n",
       "      <td>Diesel</td>\n",
       "      <td>11227</td>\n",
       "      <td>2013</td>\n",
       "      <td>2013</td>\n",
       "      <td>Manuell</td>\n",
       "      <td>Citroën BERLINGO III VAN 1.6HDI 90HK DRAG 3-S -13</td>\n",
       "      <td>69900.0</td>\n",
       "    </tr>\n",
       "    <tr>\n",
       "      <th>78231950</th>\n",
       "      <td>Diesel</td>\n",
       "      <td>10950</td>\n",
       "      <td>2012</td>\n",
       "      <td>2012</td>\n",
       "      <td>Automat</td>\n",
       "      <td>Citroën Berlingo 1.6 HDI AUT Diesel Dragkrok -12</td>\n",
       "      <td>64900.0</td>\n",
       "    </tr>\n",
       "    <tr>\n",
       "      <th>79571107</th>\n",
       "      <td>Diesel</td>\n",
       "      <td>1600</td>\n",
       "      <td>2017</td>\n",
       "      <td>2017</td>\n",
       "      <td>Manuell</td>\n",
       "      <td>Citroën Berlingo 1.6 HDI 3-SITS APPLE CAR PLA -17</td>\n",
       "      <td>124900.0</td>\n",
       "    </tr>\n",
       "    <tr>\n",
       "      <th>80150958</th>\n",
       "      <td>Diesel</td>\n",
       "      <td>10630</td>\n",
       "      <td>2012</td>\n",
       "      <td>2012</td>\n",
       "      <td>Manuell</td>\n",
       "      <td>Citroën Berlingo 1.6 HDi Manuell / 0.53L/mile -12</td>\n",
       "      <td>59000.0</td>\n",
       "    </tr>\n",
       "    <tr>\n",
       "      <th>79718101</th>\n",
       "      <td>Diesel</td>\n",
       "      <td>5900</td>\n",
       "      <td>2017</td>\n",
       "      <td>2016</td>\n",
       "      <td>Manuell</td>\n",
       "      <td>Citroën Berlingo 1,6 BlueHDI 3-SITS Leasebar -17</td>\n",
       "      <td>114000.0</td>\n",
       "    </tr>\n",
       "    <tr>\n",
       "      <th>80592873</th>\n",
       "      <td>Diesel</td>\n",
       "      <td>1</td>\n",
       "      <td>2018</td>\n",
       "      <td>-</td>\n",
       "      <td>Automat</td>\n",
       "      <td>Citroën Berlingo Propack *Sommar Kampanj* -18</td>\n",
       "      <td>172375.0</td>\n",
       "    </tr>\n",
       "    <tr>\n",
       "      <th>80592791</th>\n",
       "      <td>Diesel</td>\n",
       "      <td>1</td>\n",
       "      <td>2018</td>\n",
       "      <td>-</td>\n",
       "      <td>Manuell</td>\n",
       "      <td>Citroën Berlingo Sommar Kampanj *LÅG SKATT* -18</td>\n",
       "      <td>143625.0</td>\n",
       "    </tr>\n",
       "    <tr>\n",
       "      <th>80530131</th>\n",
       "      <td>Diesel</td>\n",
       "      <td>1</td>\n",
       "      <td>2018</td>\n",
       "      <td>-</td>\n",
       "      <td>Manuell</td>\n",
       "      <td>Citroën Berlingo Sommar kampanj -Låg Skatt- -18</td>\n",
       "      <td>143625.0</td>\n",
       "    </tr>\n",
       "    <tr>\n",
       "      <th>80502459</th>\n",
       "      <td>Diesel</td>\n",
       "      <td>7495</td>\n",
       "      <td>2011</td>\n",
       "      <td>2011</td>\n",
       "      <td>Manuell</td>\n",
       "      <td>Citroën Berlingo 1.6HDI 90HK 3-SITS AC 2-ÅRS -11</td>\n",
       "      <td>49875.0</td>\n",
       "    </tr>\n",
       "  </tbody>\n",
       "</table>\n",
       "</div>"
      ],
      "text/plain": [
       "         Bränsle Miltal Modellår Tillverkningsår Växellåda  \\\n",
       "80695149  Diesel   6500     2014            2013   Automat   \n",
       "80340862  Diesel   2597     2013            2013   Manuell   \n",
       "80367346  Diesel   4933     2013            2013   Manuell   \n",
       "80369114  Diesel   4695     2014            2014   Manuell   \n",
       "80334040  Diesel    915     2017            2016   Manuell   \n",
       "80771709  Diesel   6890     2011            2011   Manuell   \n",
       "80770812  Diesel   7810     2012            2012   Manuell   \n",
       "80302077  Diesel   9680     2014            2014   Manuell   \n",
       "79545167  Diesel   4431     2015            2015   Manuell   \n",
       "80363204  Diesel  10400     2014            2014   Manuell   \n",
       "80051931  Diesel   3015     2015            2015   Automat   \n",
       "80712671  Diesel      1     2018               -   Manuell   \n",
       "80712572  Diesel      1     2018               -   Automat   \n",
       "80692549  Bensin   5954     2015            2015   Manuell   \n",
       "80673393  Diesel  19834     2013            2012   Automat   \n",
       "79985151  Diesel   9049     2014            2014   Automat   \n",
       "80304471  Diesel  11227     2013            2013   Manuell   \n",
       "78231950  Diesel  10950     2012            2012   Automat   \n",
       "79571107  Diesel   1600     2017            2017   Manuell   \n",
       "80150958  Diesel  10630     2012            2012   Manuell   \n",
       "79718101  Diesel   5900     2017            2016   Manuell   \n",
       "80592873  Diesel      1     2018               -   Automat   \n",
       "80592791  Diesel      1     2018               -   Manuell   \n",
       "80530131  Diesel      1     2018               -   Manuell   \n",
       "80502459  Diesel   7495     2011            2011   Manuell   \n",
       "\n",
       "                                                     header     price  \n",
       "80695149   Citroën Berlingo 1.6 HDI LÅNG L2 / AUTOMAT / -14   68500.0  \n",
       "80340862   Citroën Berlingo 1,6 HDi, verkstadinr, Moms, -13   89900.0  \n",
       "80367346  Citroën Berlingo 1,6HDI 75HK Verkstadin M-vär -13   83800.0  \n",
       "80369114  Citroën Berlingo 1,6HDI 75HK Verkstadin M-vär -14   84900.0  \n",
       "80334040      Citroën Berlingo 1.6 BlueHDi 100hk EU6 L2 -17  149800.0  \n",
       "80771709      Citroën Berlingo 1.6 HDi 75hk Skåp 3-Sits -11   47900.0  \n",
       "80770812      Citroën Berlingo 1.6 HDi 75hk Skåp 3-Sits -12   47900.0  \n",
       "80302077     Citroën Berlingo 1.6 92hk 3-sits Skåp Lång -14   49900.0  \n",
       "79545167   Citroën Berlingo 1.6 HDi 90hk Pro-Pack/V-INR -15   84800.0  \n",
       "80363204     Citroën Berlingo 1.6 92hk 3-sits Skåp Lång -14   59900.0  \n",
       "80051931     Citroën Berlingo 1.6 HDi AUT/V-INREDD/PRO- -15   99000.0  \n",
       "80712671  Citroën Berlingo Låg Skatt * Sommar Kampanj * -18  159875.0  \n",
       "80712572      Citroën Berlingo Propack | Sommar Kampanj -18  172375.0  \n",
       "80692549     Citroën Berlingo Multispace VTi 120 Bensin -15  119000.0  \n",
       "80673393  Citroën Berlingo 1,6 HDi L2 Lång/Webasto/Drag -13   57900.0  \n",
       "79985151  Citroën BERLINGO III 1.6 HDi 90hk AUT/V-INRRE -14   69800.0  \n",
       "80304471  Citroën BERLINGO III VAN 1.6HDI 90HK DRAG 3-S -13   69900.0  \n",
       "78231950   Citroën Berlingo 1.6 HDI AUT Diesel Dragkrok -12   64900.0  \n",
       "79571107  Citroën Berlingo 1.6 HDI 3-SITS APPLE CAR PLA -17  124900.0  \n",
       "80150958  Citroën Berlingo 1.6 HDi Manuell / 0.53L/mile -12   59000.0  \n",
       "79718101   Citroën Berlingo 1,6 BlueHDI 3-SITS Leasebar -17  114000.0  \n",
       "80592873      Citroën Berlingo Propack *Sommar Kampanj* -18  172375.0  \n",
       "80592791    Citroën Berlingo Sommar Kampanj *LÅG SKATT* -18  143625.0  \n",
       "80530131    Citroën Berlingo Sommar kampanj -Låg Skatt- -18  143625.0  \n",
       "80502459   Citroën Berlingo 1.6HDI 90HK 3-SITS AC 2-ÅRS -11   49875.0  "
      ]
     },
     "execution_count": 221,
     "metadata": {},
     "output_type": "execute_result"
    }
   ],
   "source": [
    "df_cars"
   ]
  },
  {
   "cell_type": "code",
   "execution_count": 199,
   "metadata": {},
   "outputs": [],
   "source": [
    "index = df_cars['Tillverkningsår'] == '-'\n",
    "df_cars.loc[index,'Tillverkningsår'] = df_cars.loc[index,'Modellår']"
   ]
  },
  {
   "cell_type": "code",
   "execution_count": 200,
   "metadata": {},
   "outputs": [],
   "source": [
    "float_cols = ['Miltal','Modellår','Tillverkningsår']\n",
    "df_cars[float_cols] = df_cars[float_cols].astype(float)"
   ]
  },
  {
   "cell_type": "code",
   "execution_count": 201,
   "metadata": {},
   "outputs": [],
   "source": [
    "df_cars.to_csv('cars.csv',sep = ';')"
   ]
  },
  {
   "cell_type": "code",
   "execution_count": 204,
   "metadata": {},
   "outputs": [
    {
     "data": {
      "text/plain": [
       "<matplotlib.axes._subplots.AxesSubplot at 0x126179da0>"
      ]
     },
     "execution_count": 204,
     "metadata": {},
     "output_type": "execute_result"
    },
    {
     "data": {
      "image/png": "[encoded data removed]",
      "text/plain": [
       "<Figure size 432x288 with 1 Axes>"
      ]
     },
     "metadata": {},
     "output_type": "display_data"
    },
    {
     "data": {
      "image/png": "[encoded data removed]",
      "text/plain": [
       "<Figure size 432x288 with 1 Axes>"
      ]
     },
     "metadata": {},
     "output_type": "display_data"
    }
   ],
   "source": [
    "\n",
    "df_cars.plot(x = 'Miltal',y = 'price',style = '.')\n",
    "df_cars.plot(x = 'Tillverkningsår',y = 'price',style = '.')"
   ]
  },
  {
   "cell_type": "code",
   "execution_count": null,
   "metadata": {},
   "outputs": [],
   "source": []
  }
 ],
 "metadata": {
  "kernelspec": {
   "display_name": "Python 3",
   "language": "python",
   "name": "python3"
  },
  "language_info": {
   "codemirror_mode": {
    "name": "ipython",
    "version": 3
   },
   "file_extension": ".py",
   "mimetype": "text/x-python",
   "name": "python",
   "nbconvert_exporter": "python",
   "pygments_lexer": "ipython3",
   "version": "3.5.3"
  }
 },
 "nbformat": 4,
 "nbformat_minor": 2
}
